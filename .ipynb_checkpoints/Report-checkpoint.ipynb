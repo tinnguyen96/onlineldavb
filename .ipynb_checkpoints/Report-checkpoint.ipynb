{
 "cells": [
  {
   "cell_type": "markdown",
   "metadata": {},
   "source": [
    "# Held-out log-likelihood"
   ]
  },
  {
   "cell_type": "code",
   "execution_count": 1,
   "metadata": {},
   "outputs": [],
   "source": [
    "import numpy as np\n",
    "import matplotlib.pyplot as plt"
   ]
  },
  {
   "cell_type": "markdown",
   "metadata": {
    "heading_collapsed": true
   },
   "source": [
    "## compare SB-LDA and LDA 1/K"
   ]
  },
  {
   "cell_type": "code",
   "execution_count": 33,
   "metadata": {
    "hidden": true
   },
   "outputs": [],
   "source": [
    "def compare_sbVSlda(K, D, inroot, heldoutroot, expset):\n",
    "    \"\"\"\n",
    "    Inputs:\n",
    "        K: approximation level\n",
    "        D: mini-batch size \n",
    "        expset: list of experimental seeds\n",
    "    Outputs:\n",
    "        plots LL of LDA 1/K and SB_LDA versus number of minibatches\n",
    "    Remarks: \n",
    "        all experiments are expected to run until completion i.e. \n",
    "        the same number of iterations.\n",
    "    \"\"\"\n",
    "    \n",
    "    # Load and compute average LDA 1/K\n",
    "    ldadir = \"ldaK\" + str(K) + \"_\" + \"D\" + str(D) + \"_\" + inroot + \"_\" + heldoutroot\n",
    "    ldaLL = []\n",
    "    ## load experiments\n",
    "    for seed in expset:\n",
    "        ldapath = ldadir + \"/LL_\" + str(seed) + \".csv\"\n",
    "        result = np.loadtxt(ldapath)\n",
    "        ldabatchcounts = result[:,0]\n",
    "        ldaLL.append(result[:,2])\n",
    "    ldaLL = np.array(ldaLL) # shape len(expset) x maxbatchcount\n",
    "    ldaavg = np.mean(ldaLL, axis=0) # shape (maxbatchcount,)\n",
    "    ldaerr = np.std(ldaLL, axis=0) # shape (maxbatchcount,)\n",
    "    \n",
    "    # Load and compute average SB_LDA\n",
    "    sbdir = \"sbldaK\" + str(K) + \"_\" + \"D\" + str(D) + \"_\" + inroot + \"_\" + heldoutroot\n",
    "    sbLL = []\n",
    "    ## load experiments\n",
    "    for seed in expset:\n",
    "        sbpath = sbdir + \"/LL_\" + str(seed) + \".csv\"\n",
    "        result = np.loadtxt(sbpath)\n",
    "        sbbatchcounts = result[:,0]\n",
    "        sbLL.append(result[:,2])\n",
    "    sbLL = np.array(sbLL) # shape len(expset) x len(batchcounts)\n",
    "    sbavg = np.mean(sbLL, axis=0) # shape (len(batchcounts),)\n",
    "    sberr = np.std(sbLL, axis=0) # shape (len(batchcounts),)\n",
    "    \n",
    "    fig = plt.figure()\n",
    "    plt.errorbar(ldabatchcounts, ldaavg, yerr=ldaerr,label='LDA 1/K')\n",
    "    plt.errorbar(sbbatchcounts, sbavg, yerr=sberr,label='SB-LDA')\n",
    "    plt.title('K = %d, D = %d' %(K,D))\n",
    "    plt.xlabel('Number of mini-batches')\n",
    "    plt.ylabel('Held-out log-likelihood')\n",
    "    plt.legend()\n",
    "    plt.show()\n",
    "    \n",
    "    return \n"
   ]
  },
  {
   "cell_type": "code",
   "execution_count": 40,
   "metadata": {
    "hidden": true
   },
   "outputs": [
    {
     "data": {
      "image/png": "[encoded data removed]",
      "text/plain": [
       "<Figure size 432x288 with 1 Axes>"
      ]
     },
     "metadata": {
      "needs_background": "light"
     },
     "output_type": "display_data"
    }
   ],
   "source": [
    "compare_sbVSlda(100, 16, \"wiki10k\",\"wiki1k\", range(5,10))"
   ]
  },
  {
   "cell_type": "markdown",
   "metadata": {},
   "source": [
    "## compare among SB-LDA for fixed D but varying K"
   ]
  },
  {
   "cell_type": "code",
   "execution_count": 5,
   "metadata": {},
   "outputs": [],
   "source": [
    "def sb_acrossK(Klist, D, inroot, heldoutroot, expset, ax):\n",
    "    \"\"\"\n",
    "    Inputs:\n",
    "        Klist: approximation levels\n",
    "        D: mini-batch size \n",
    "        inroot:\n",
    "        heldoutroot:\n",
    "        expset: dictionary of experimental seeds, keys being approximation levels in Klist \n",
    "        ax: axis to plot\n",
    "    Outputs:\n",
    "        plots LL of SB_LDA versus number of minibatches for different K's\n",
    "    \"\"\"\n",
    "    \n",
    "    sbavg = []\n",
    "    sberr = []\n",
    "    \n",
    "    for i in range(len(Klist)):\n",
    "        K = Klist[i]\n",
    "        seeds = expset[K]\n",
    "        sbdir = \"sbldaK\" + str(K) + \"_\" + \"D\" + str(D) + \"_\" + inroot + \"_\" + heldoutroot\n",
    "        sbLL = []\n",
    "        for seed in seeds:\n",
    "            sbpath = sbdir + \"/LL_\" + str(seed) + \".csv\"\n",
    "            result = np.loadtxt(sbpath)\n",
    "            sbbatchcounts = result[:,0]\n",
    "            sbLL.append(result[:,2])\n",
    "        sbLL = np.array(sbLL) # shape len(expset) x len(batchcounts)\n",
    "        sbavg.append(np.mean(sbLL, axis=0)) # shape (len(batchcounts),)\n",
    "        sberr.append(np.std(sbLL, axis=0)) # shape (len(batchcounts),)\n",
    "    \n",
    "    fig = plt.figure()\n",
    "    for i in range(len(Klist)):\n",
    "        plt.errorbar(sbbatchcounts, sbavg[i], yerr=sberr[i],label='K = %d' %Klist[i])\n",
    "    ax.set_title('SB-LDA, D = %d' %D)\n",
    "    ax.set_xlabel('Number of mini-batches')\n",
    "    ax.set_ylabel('Held-out log-likelihood')\n",
    "\n",
    "    return"
   ]
  },
  {
   "cell_type": "code",
   "execution_count": 9,
   "metadata": {},
   "outputs": [
    {
     "ename": "ValueError",
     "evalue": "operands could not be broadcast together with shapes (15,) (10,) ",
     "output_type": "error",
     "traceback": [
      "\u001b[0;31m---------------------------------------------------------------------------\u001b[0m",
      "\u001b[0;31mValueError\u001b[0m                                Traceback (most recent call last)",
      "\u001b[0;32m<ipython-input-9-2d12e4785695>\u001b[0m in \u001b[0;36m<module>\u001b[0;34m()\u001b[0m\n\u001b[1;32m      8\u001b[0m \u001b[0mD\u001b[0m \u001b[0;34m=\u001b[0m \u001b[0;34m[\u001b[0m\u001b[0;36m16\u001b[0m\u001b[0;34m,\u001b[0m \u001b[0;36m50\u001b[0m\u001b[0;34m,\u001b[0m \u001b[0;36m100\u001b[0m\u001b[0;34m]\u001b[0m\u001b[0;34m\u001b[0m\u001b[0;34m\u001b[0m\u001b[0m\n\u001b[1;32m      9\u001b[0m \u001b[0;32mfor\u001b[0m \u001b[0mi\u001b[0m \u001b[0;32min\u001b[0m \u001b[0mrange\u001b[0m\u001b[0;34m(\u001b[0m\u001b[0;36m3\u001b[0m\u001b[0;34m)\u001b[0m\u001b[0;34m:\u001b[0m\u001b[0;34m\u001b[0m\u001b[0;34m\u001b[0m\u001b[0m\n\u001b[0;32m---> 10\u001b[0;31m     \u001b[0msb_acrossK\u001b[0m\u001b[0;34m(\u001b[0m\u001b[0mKlist\u001b[0m\u001b[0;34m,\u001b[0m \u001b[0mD\u001b[0m\u001b[0;34m[\u001b[0m\u001b[0mi\u001b[0m\u001b[0;34m]\u001b[0m\u001b[0;34m,\u001b[0m \u001b[0minroot\u001b[0m\u001b[0;34m,\u001b[0m \u001b[0mheldoutroot\u001b[0m\u001b[0;34m,\u001b[0m \u001b[0mexpset\u001b[0m\u001b[0;34m,\u001b[0m \u001b[0maxes\u001b[0m\u001b[0;34m[\u001b[0m\u001b[0mi\u001b[0m\u001b[0;34m]\u001b[0m\u001b[0;34m)\u001b[0m\u001b[0;34m\u001b[0m\u001b[0;34m\u001b[0m\u001b[0m\n\u001b[0m\u001b[1;32m     11\u001b[0m \u001b[0mplt\u001b[0m\u001b[0;34m.\u001b[0m\u001b[0mshow\u001b[0m\u001b[0;34m(\u001b[0m\u001b[0;34m)\u001b[0m\u001b[0;34m\u001b[0m\u001b[0;34m\u001b[0m\u001b[0m\n",
      "\u001b[0;32m<ipython-input-5-d0dfa8c457ed>\u001b[0m in \u001b[0;36msb_acrossK\u001b[0;34m(Klist, D, inroot, heldoutroot, expset, ax)\u001b[0m\n\u001b[1;32m     26\u001b[0m             \u001b[0msbLL\u001b[0m\u001b[0;34m.\u001b[0m\u001b[0mappend\u001b[0m\u001b[0;34m(\u001b[0m\u001b[0mresult\u001b[0m\u001b[0;34m[\u001b[0m\u001b[0;34m:\u001b[0m\u001b[0;34m,\u001b[0m\u001b[0;36m2\u001b[0m\u001b[0;34m]\u001b[0m\u001b[0;34m)\u001b[0m\u001b[0;34m\u001b[0m\u001b[0;34m\u001b[0m\u001b[0m\n\u001b[1;32m     27\u001b[0m         \u001b[0msbLL\u001b[0m \u001b[0;34m=\u001b[0m \u001b[0mnp\u001b[0m\u001b[0;34m.\u001b[0m\u001b[0marray\u001b[0m\u001b[0;34m(\u001b[0m\u001b[0msbLL\u001b[0m\u001b[0;34m)\u001b[0m \u001b[0;31m# shape len(expset) x len(batchcounts)\u001b[0m\u001b[0;34m\u001b[0m\u001b[0;34m\u001b[0m\u001b[0m\n\u001b[0;32m---> 28\u001b[0;31m         \u001b[0msbavg\u001b[0m\u001b[0;34m.\u001b[0m\u001b[0mappend\u001b[0m\u001b[0;34m(\u001b[0m\u001b[0mnp\u001b[0m\u001b[0;34m.\u001b[0m\u001b[0mmean\u001b[0m\u001b[0;34m(\u001b[0m\u001b[0msbLL\u001b[0m\u001b[0;34m,\u001b[0m \u001b[0maxis\u001b[0m\u001b[0;34m=\u001b[0m\u001b[0;36m0\u001b[0m\u001b[0;34m)\u001b[0m\u001b[0;34m)\u001b[0m \u001b[0;31m# shape (len(batchcounts),)\u001b[0m\u001b[0;34m\u001b[0m\u001b[0;34m\u001b[0m\u001b[0m\n\u001b[0m\u001b[1;32m     29\u001b[0m         \u001b[0msberr\u001b[0m\u001b[0;34m.\u001b[0m\u001b[0mappend\u001b[0m\u001b[0;34m(\u001b[0m\u001b[0mnp\u001b[0m\u001b[0;34m.\u001b[0m\u001b[0mstd\u001b[0m\u001b[0;34m(\u001b[0m\u001b[0msbLL\u001b[0m\u001b[0;34m,\u001b[0m \u001b[0maxis\u001b[0m\u001b[0;34m=\u001b[0m\u001b[0;36m0\u001b[0m\u001b[0;34m)\u001b[0m\u001b[0;34m)\u001b[0m \u001b[0;31m# shape (len(batchcounts),)\u001b[0m\u001b[0;34m\u001b[0m\u001b[0;34m\u001b[0m\u001b[0m\n\u001b[1;32m     30\u001b[0m \u001b[0;34m\u001b[0m\u001b[0m\n",
      "\u001b[0;32m/state/partition1/llgrid/pkg/anaconda/anaconda3-2020a/lib/python3.6/site-packages/numpy/core/fromnumeric.py\u001b[0m in \u001b[0;36mmean\u001b[0;34m(a, axis, dtype, out, keepdims)\u001b[0m\n\u001b[1;32m   3116\u001b[0m \u001b[0;34m\u001b[0m\u001b[0m\n\u001b[1;32m   3117\u001b[0m     return _methods._mean(a, axis=axis, dtype=dtype,\n\u001b[0;32m-> 3118\u001b[0;31m                           out=out, **kwargs)\n\u001b[0m\u001b[1;32m   3119\u001b[0m \u001b[0;34m\u001b[0m\u001b[0m\n\u001b[1;32m   3120\u001b[0m \u001b[0;34m\u001b[0m\u001b[0m\n",
      "\u001b[0;32m/state/partition1/llgrid/pkg/anaconda/anaconda3-2020a/lib/python3.6/site-packages/numpy/core/_methods.py\u001b[0m in \u001b[0;36m_mean\u001b[0;34m(a, axis, dtype, out, keepdims)\u001b[0m\n\u001b[1;32m     73\u001b[0m             \u001b[0mis_float16_result\u001b[0m \u001b[0;34m=\u001b[0m \u001b[0;32mTrue\u001b[0m\u001b[0;34m\u001b[0m\u001b[0;34m\u001b[0m\u001b[0m\n\u001b[1;32m     74\u001b[0m \u001b[0;34m\u001b[0m\u001b[0m\n\u001b[0;32m---> 75\u001b[0;31m     \u001b[0mret\u001b[0m \u001b[0;34m=\u001b[0m \u001b[0mumr_sum\u001b[0m\u001b[0;34m(\u001b[0m\u001b[0marr\u001b[0m\u001b[0;34m,\u001b[0m \u001b[0maxis\u001b[0m\u001b[0;34m,\u001b[0m \u001b[0mdtype\u001b[0m\u001b[0;34m,\u001b[0m \u001b[0mout\u001b[0m\u001b[0;34m,\u001b[0m \u001b[0mkeepdims\u001b[0m\u001b[0;34m)\u001b[0m\u001b[0;34m\u001b[0m\u001b[0;34m\u001b[0m\u001b[0m\n\u001b[0m\u001b[1;32m     76\u001b[0m     \u001b[0;32mif\u001b[0m \u001b[0misinstance\u001b[0m\u001b[0;34m(\u001b[0m\u001b[0mret\u001b[0m\u001b[0;34m,\u001b[0m \u001b[0mmu\u001b[0m\u001b[0;34m.\u001b[0m\u001b[0mndarray\u001b[0m\u001b[0;34m)\u001b[0m\u001b[0;34m:\u001b[0m\u001b[0;34m\u001b[0m\u001b[0;34m\u001b[0m\u001b[0m\n\u001b[1;32m     77\u001b[0m         ret = um.true_divide(\n",
      "\u001b[0;31mValueError\u001b[0m: operands could not be broadcast together with shapes (15,) (10,) "
     ]
    },
    {
     "data": {
      "image/png": "[encoded data removed]",
      "text/plain": [
       "<Figure size 864x288 with 3 Axes>"
      ]
     },
     "metadata": {
      "needs_background": "light"
     },
     "output_type": "display_data"
    }
   ],
   "source": [
    "Klist = [50, 100, 150]\n",
    "inroot = \"wiki10k\"\n",
    "heldoutroot = \"wiki1k\"\n",
    "expset = {50:[0,1,2,3,4], 100:[0,1,2,3,4], 150:[0,1,2,3,4]}\n",
    "\n",
    "fig, axes = plt.subplots(1,3,figsize=(12,4))\n",
    "\n",
    "D = [16, 50, 100]\n",
    "for i in range(3):\n",
    "    sb_acrossK(Klist, D[i], inroot, heldoutroot, expset, axes[i])\n",
    "plt.show()"
   ]
  },
  {
   "cell_type": "markdown",
   "metadata": {},
   "source": [
    "## compare among SB-LDA for fixed K but varying D"
   ]
  },
  {
   "cell_type": "code",
   "execution_count": 11,
   "metadata": {},
   "outputs": [],
   "source": [
    "def sb_acrossD(K, Dlist, inroot, heldoutroot, expset, ax):\n",
    "    \"\"\"\n",
    "    Inputs:\n",
    "        K: approximation level\n",
    "        Dlist: mini-batch sizes\n",
    "        inroot:\n",
    "        heldoutroot:\n",
    "        expset: dictionary of experimental seeds, keys being minibatch sizes in Dlist\n",
    "        ax: axis to plot\n",
    "    Outputs:\n",
    "        plots LL of SB_LDA versus number of minibatches for different K's\n",
    "    \"\"\"\n",
    "    \n",
    "    sbexs = [] # number of training examples processed\n",
    "    sbavg = []\n",
    "    sberr = []\n",
    "    \n",
    "    for i in range(len(Dlist)):\n",
    "        D = Dlist[i]\n",
    "        seeds = expset[K]\n",
    "        sbdir = \"sbldaK\" + str(K) + \"_\" + \"D\" + str(D) + \"_\" + inroot + \"_\" + heldoutroot\n",
    "        sbLL = []\n",
    "        for seed in seeds:\n",
    "            sbpath = sbdir + \"/LL_\" + str(seed) + \".csv\"\n",
    "            result = np.loadtxt(sbpath)\n",
    "            sbbatchcounts = result[:,0]\n",
    "            sbLL.append(result[:,2])\n",
    "        sbbatchcounts = np.array(sbbatchcounts)\n",
    "        sbexs.append(D*sbbatchcounts)\n",
    "        sbLL = np.array(sbLL) # shape len(expset) x len(batchcounts)\n",
    "        sbavg.append(np.mean(sbLL, axis=0)) # shape (len(batchcounts),)\n",
    "        sberr.append(np.std(sbLL, axis=0)) # shape (len(batchcounts),)\n",
    "    \n",
    "    for i in range(len(Dlist)):\n",
    "        plt.errorbar(sbexs[i], sbavg[i], yerr=sberr[i],label='D = %d' %Dlist[i])\n",
    "    ax.set_title('SB-LDA, K = %d' %K)\n",
    "    ax.set_xlabel('Number of training examples processed')\n",
    "    ax.set_ylabel('Held-out log-likelihood')\n",
    "\n",
    "    return"
   ]
  },
  {
   "cell_type": "code",
   "execution_count": 15,
   "metadata": {},
   "outputs": [
    {
     "data": {
      "image/png": "[encoded data removed]",
      "text/plain": [
       "<Figure size 432x288 with 1 Axes>"
      ]
     },
     "metadata": {
      "needs_background": "light"
     },
     "output_type": "display_data"
    },
    {
     "data": {
      "image/png": "[encoded data removed]",
      "text/plain": [
       "<Figure size 432x288 with 1 Axes>"
      ]
     },
     "metadata": {
      "needs_background": "light"
     },
     "output_type": "display_data"
    }
   ],
   "source": [
    "K = 50\n",
    "Dlist = [16, 50, 100]\n",
    "inroot = \"wiki10k\"\n",
    "heldoutroot = \"wiki1k\"\n",
    "expset = {16:[0,1,2,3,4], 50:[0,1,2,3,4], 100:[0,1,2,3,4]}\n",
    "\n",
    "sb_acrossD(K, Dlist, inroot, heldoutroot, expset, plt.gca())\n",
    "plt.show()"
   ]
  },
  {
   "cell_type": "markdown",
   "metadata": {
    "heading_collapsed": true
   },
   "source": [
    "# Inferred topics"
   ]
  },
  {
   "cell_type": "code",
   "execution_count": 29,
   "metadata": {
    "hidden": true
   },
   "outputs": [],
   "source": [
    "import numpy as np\n",
    "import pandas as pd"
   ]
  },
  {
   "cell_type": "code",
   "execution_count": 69,
   "metadata": {
    "hidden": true
   },
   "outputs": [],
   "source": [
    "def printtopics(vocabfile, lambdafile, normalized, threshold, displaycount):\n",
    "    vocab = open(vocabfile).readlines()\n",
    "    testlambda = np.loadtxt(lambdafile)\n",
    "    sigtopics = 0\n",
    "    df = pd.DataFrame() \n",
    "    for k in range(0, len(testlambda)):\n",
    "        lambdak = list(testlambda[k, :])\n",
    "        lambdak = [round(i,1) for i in lambdak]\n",
    "        # report marginal probabilities instead of Dirichlet parameters\n",
    "        if (normalized):\n",
    "            lambdak = lambdak / sum(lambdak)\n",
    "        temp = list(zip(lambdak, list(range(0, len(lambdak)))))\n",
    "        temp = sorted(temp, key = lambda x: x[0], reverse=True)\n",
    "        # plot topics with parameters exceeding the threshold\n",
    "        if (temp[0][0] >= threshold):\n",
    "            colname = 'topic %d' % (k)\n",
    "            coldata = [(str.strip(vocab[temp[i][1]]), temp[i][0]) for i in range(0, displaycount)]\n",
    "            df[colname] = coldata\n",
    "    print(\"Discovered %d significant topics at threshold %.2f\" %(len(df.columns),threshold))\n",
    "    return df"
   ]
  },
  {
   "cell_type": "code",
   "execution_count": 63,
   "metadata": {
    "hidden": true
   },
   "outputs": [],
   "source": [
    "vocabfile = \"dictnostops.txt\"\n",
    "lambdafile = \"ldaK100_D16_wiki10k_wiki1k/lambda-100.dat\"\n",
    "normalized = 0\n",
    "threshold = 200\n",
    "displaycount = 10"
   ]
  },
  {
   "cell_type": "code",
   "execution_count": 75,
   "metadata": {
    "hidden": true
   },
   "outputs": [
    {
     "name": "stdout",
     "output_type": "stream",
     "text": [
      "Discovered 13 significant topics at threshold 199.00\n"
     ]
    },
    {
     "data": {
      "text/html": [
       "<div>\n",
       "<style scoped>\n",
       "    .dataframe tbody tr th:only-of-type {\n",
       "        vertical-align: middle;\n",
       "    }\n",
       "\n",
       "    .dataframe tbody tr th {\n",
       "        vertical-align: top;\n",
       "    }\n",
       "\n",
       "    .dataframe thead th {\n",
       "        text-align: right;\n",
       "    }\n",
       "</style>\n",
       "<table border=\"1\" class=\"dataframe\">\n",
       "  <thead>\n",
       "    <tr style=\"text-align: right;\">\n",
       "      <th></th>\n",
       "      <th>topic 11</th>\n",
       "      <th>topic 12</th>\n",
       "      <th>topic 21</th>\n",
       "      <th>topic 40</th>\n",
       "      <th>topic 44</th>\n",
       "      <th>topic 56</th>\n",
       "      <th>topic 62</th>\n",
       "      <th>topic 72</th>\n",
       "      <th>topic 77</th>\n",
       "      <th>topic 85</th>\n",
       "      <th>topic 87</th>\n",
       "      <th>topic 88</th>\n",
       "      <th>topic 90</th>\n",
       "    </tr>\n",
       "  </thead>\n",
       "  <tbody>\n",
       "    <tr>\n",
       "      <th>0</th>\n",
       "      <td>(der, 620.1)</td>\n",
       "      <td>(first, 5566.2)</td>\n",
       "      <td>(squadron, 386.6)</td>\n",
       "      <td>(music, 1352.9)</td>\n",
       "      <td>(line, 2150.1)</td>\n",
       "      <td>(score, 6142.9)</td>\n",
       "      <td>(ship, 1025.0)</td>\n",
       "      <td>(town, 1779.7)</td>\n",
       "      <td>(people, 870.2)</td>\n",
       "      <td>(party, 1981.5)</td>\n",
       "      <td>(goals, 1476.7)</td>\n",
       "      <td>(january, 783.3)</td>\n",
       "      <td>(species, 1017.5)</td>\n",
       "    </tr>\n",
       "    <tr>\n",
       "      <th>1</th>\n",
       "      <td>(book, 561.5)</td>\n",
       "      <td>(new, 4391.5)</td>\n",
       "      <td>(navy, 157.1)</td>\n",
       "      <td>(band, 1292.5)</td>\n",
       "      <td>(series, 1428.6)</td>\n",
       "      <td>(team, 4204.9)</td>\n",
       "      <td>(ships, 476.4)</td>\n",
       "      <td>(max, 944.5)</td>\n",
       "      <td>(group, 813.6)</td>\n",
       "      <td>(division, 870.6)</td>\n",
       "      <td>(clubs, 694.1)</td>\n",
       "      <td>(november, 531.5)</td>\n",
       "      <td>(family, 486.5)</td>\n",
       "    </tr>\n",
       "    <tr>\n",
       "      <th>2</th>\n",
       "      <td>(van, 497.2)</td>\n",
       "      <td>(two, 3563.2)</td>\n",
       "      <td>(royal, 149.6)</td>\n",
       "      <td>(song, 1134.7)</td>\n",
       "      <td>(new, 1401.1)</td>\n",
       "      <td>(seed, 1006.6)</td>\n",
       "      <td>(service, 137.4)</td>\n",
       "      <td>(population, 857.5)</td>\n",
       "      <td>(city, 783.9)</td>\n",
       "      <td>(election, 839.1)</td>\n",
       "      <td>(years, 558.9)</td>\n",
       "      <td>(king, 500.3)</td>\n",
       "      <td>(island, 445.3)</td>\n",
       "    </tr>\n",
       "    <tr>\n",
       "      <th>3</th>\n",
       "      <td>(die, 410.0)</td>\n",
       "      <td>(county, 3229.9)</td>\n",
       "      <td>(knight, 97.2)</td>\n",
       "      <td>(released, 517.2)</td>\n",
       "      <td>(company, 1229.7)</td>\n",
       "      <td>(round, 531.9)</td>\n",
       "      <td>(vessel, 134.3)</td>\n",
       "      <td>(district, 607.5)</td>\n",
       "      <td>(new, 760.7)</td>\n",
       "      <td>(brigade, 755.9)</td>\n",
       "      <td>(data, 395.9)</td>\n",
       "      <td>(san, 444.6)</td>\n",
       "      <td>(black, 439.8)</td>\n",
       "    </tr>\n",
       "    <tr>\n",
       "      <th>4</th>\n",
       "      <td>(life, 395.5)</td>\n",
       "      <td>(school, 3225.4)</td>\n",
       "      <td>(prussian, 95.6)</td>\n",
       "      <td>(rock, 471.0)</td>\n",
       "      <td>(world, 1218.8)</td>\n",
       "      <td>(final, 348.5)</td>\n",
       "      <td>(fleet, 119.0)</td>\n",
       "      <td>(village, 533.0)</td>\n",
       "      <td>(history, 741.8)</td>\n",
       "      <td>(act, 713.5)</td>\n",
       "      <td>(report, 342.5)</td>\n",
       "      <td>(october, 384.7)</td>\n",
       "      <td>(forests, 422.1)</td>\n",
       "    </tr>\n",
       "    <tr>\n",
       "      <th>5</th>\n",
       "      <td>(published, 387.2)</td>\n",
       "      <td>(national, 2972.1)</td>\n",
       "      <td>(commander, 32.4)</td>\n",
       "      <td>(songs, 398.3)</td>\n",
       "      <td>(road, 1009.1)</td>\n",
       "      <td>(attendance, 331.3)</td>\n",
       "      <td>(class, 98.1)</td>\n",
       "      <td>(area, 332.1)</td>\n",
       "      <td>(air, 728.2)</td>\n",
       "      <td>(political, 662.7)</td>\n",
       "      <td>(sort, 292.6)</td>\n",
       "      <td>(died, 328.2)</td>\n",
       "      <td>(sea, 387.2)</td>\n",
       "    </tr>\n",
       "    <tr>\n",
       "      <th>6</th>\n",
       "      <td>(stories, 379.8)</td>\n",
       "      <td>(years, 2954.1)</td>\n",
       "      <td>(naval, 26.3)</td>\n",
       "      <td>(single, 323.6)</td>\n",
       "      <td>(street, 975.5)</td>\n",
       "      <td>(indiana, 243.6)</td>\n",
       "      <td>(vessels, 96.5)</td>\n",
       "      <td>(parish, 215.6)</td>\n",
       "      <td>(literature, 721.1)</td>\n",
       "      <td>(battle, 639.8)</td>\n",
       "      <td>(attendance, 254.0)</td>\n",
       "      <td>(louise, 305.8)</td>\n",
       "      <td>(found, 387.0)</td>\n",
       "    </tr>\n",
       "    <tr>\n",
       "      <th>7</th>\n",
       "      <td>(und, 318.8)</td>\n",
       "      <td>(year, 2904.6)</td>\n",
       "      <td>(col, 25.2)</td>\n",
       "      <td>(turkish, 308.9)</td>\n",
       "      <td>(station, 926.5)</td>\n",
       "      <td>(bills, 125.1)</td>\n",
       "      <td>(naval, 74.5)</td>\n",
       "      <td>(age, 199.3)</td>\n",
       "      <td>(work, 661.6)</td>\n",
       "      <td>(minister, 592.4)</td>\n",
       "      <td>(cup, 222.5)</td>\n",
       "      <td>(bishop, 248.7)</td>\n",
       "      <td>(forest, 364.5)</td>\n",
       "    </tr>\n",
       "    <tr>\n",
       "      <th>8</th>\n",
       "      <td>(written, 316.7)</td>\n",
       "      <td>(state, 2733.0)</td>\n",
       "      <td>(dominion, 22.9)</td>\n",
       "      <td>(live, 285.7)</td>\n",
       "      <td>(built, 764.5)</td>\n",
       "      <td>(report, 89.4)</td>\n",
       "      <td>(oil, 72.4)</td>\n",
       "      <td>(elevation, 197.6)</td>\n",
       "      <td>(program, 528.7)</td>\n",
       "      <td>(lord, 585.9)</td>\n",
       "      <td>(club, 218.3)</td>\n",
       "      <td>(august, 236.3)</td>\n",
       "      <td>(genus, 350.1)</td>\n",
       "    </tr>\n",
       "    <tr>\n",
       "      <th>9</th>\n",
       "      <td>(play, 294.8)</td>\n",
       "      <td>(march, 2666.0)</td>\n",
       "      <td>(command, 22.3)</td>\n",
       "      <td>(die, 276.9)</td>\n",
       "      <td>(two, 709.6)</td>\n",
       "      <td>(lions, 87.7)</td>\n",
       "      <td>(sea, 66.0)</td>\n",
       "      <td>(province, 195.0)</td>\n",
       "      <td>(chinese, 517.6)</td>\n",
       "      <td>(valley, 502.4)</td>\n",
       "      <td>(loan, 206.2)</td>\n",
       "      <td>(brother, 223.2)</td>\n",
       "      <td>(tropical, 315.9)</td>\n",
       "    </tr>\n",
       "  </tbody>\n",
       "</table>\n",
       "</div>"
      ],
      "text/plain": [
       "             topic 11            topic 12           topic 21  \\\n",
       "0        (der, 620.1)     (first, 5566.2)  (squadron, 386.6)   \n",
       "1       (book, 561.5)       (new, 4391.5)      (navy, 157.1)   \n",
       "2        (van, 497.2)       (two, 3563.2)     (royal, 149.6)   \n",
       "3        (die, 410.0)    (county, 3229.9)     (knight, 97.2)   \n",
       "4       (life, 395.5)    (school, 3225.4)   (prussian, 95.6)   \n",
       "5  (published, 387.2)  (national, 2972.1)  (commander, 32.4)   \n",
       "6    (stories, 379.8)     (years, 2954.1)      (naval, 26.3)   \n",
       "7        (und, 318.8)      (year, 2904.6)        (col, 25.2)   \n",
       "8    (written, 316.7)     (state, 2733.0)   (dominion, 22.9)   \n",
       "9       (play, 294.8)     (march, 2666.0)    (command, 22.3)   \n",
       "\n",
       "            topic 40           topic 44             topic 56  \\\n",
       "0    (music, 1352.9)     (line, 2150.1)      (score, 6142.9)   \n",
       "1     (band, 1292.5)   (series, 1428.6)       (team, 4204.9)   \n",
       "2     (song, 1134.7)      (new, 1401.1)       (seed, 1006.6)   \n",
       "3  (released, 517.2)  (company, 1229.7)       (round, 531.9)   \n",
       "4      (rock, 471.0)    (world, 1218.8)       (final, 348.5)   \n",
       "5     (songs, 398.3)     (road, 1009.1)  (attendance, 331.3)   \n",
       "6    (single, 323.6)    (street, 975.5)     (indiana, 243.6)   \n",
       "7   (turkish, 308.9)   (station, 926.5)       (bills, 125.1)   \n",
       "8      (live, 285.7)     (built, 764.5)       (report, 89.4)   \n",
       "9       (die, 276.9)       (two, 709.6)        (lions, 87.7)   \n",
       "\n",
       "           topic 62             topic 72             topic 77  \\\n",
       "0    (ship, 1025.0)       (town, 1779.7)      (people, 870.2)   \n",
       "1    (ships, 476.4)         (max, 944.5)       (group, 813.6)   \n",
       "2  (service, 137.4)  (population, 857.5)        (city, 783.9)   \n",
       "3   (vessel, 134.3)    (district, 607.5)         (new, 760.7)   \n",
       "4    (fleet, 119.0)     (village, 533.0)     (history, 741.8)   \n",
       "5     (class, 98.1)        (area, 332.1)         (air, 728.2)   \n",
       "6   (vessels, 96.5)      (parish, 215.6)  (literature, 721.1)   \n",
       "7     (naval, 74.5)         (age, 199.3)        (work, 661.6)   \n",
       "8       (oil, 72.4)   (elevation, 197.6)     (program, 528.7)   \n",
       "9       (sea, 66.0)    (province, 195.0)     (chinese, 517.6)   \n",
       "\n",
       "             topic 85             topic 87           topic 88  \\\n",
       "0     (party, 1981.5)      (goals, 1476.7)   (january, 783.3)   \n",
       "1   (division, 870.6)       (clubs, 694.1)  (november, 531.5)   \n",
       "2   (election, 839.1)       (years, 558.9)      (king, 500.3)   \n",
       "3    (brigade, 755.9)        (data, 395.9)       (san, 444.6)   \n",
       "4        (act, 713.5)      (report, 342.5)   (october, 384.7)   \n",
       "5  (political, 662.7)        (sort, 292.6)      (died, 328.2)   \n",
       "6     (battle, 639.8)  (attendance, 254.0)    (louise, 305.8)   \n",
       "7   (minister, 592.4)         (cup, 222.5)    (bishop, 248.7)   \n",
       "8       (lord, 585.9)        (club, 218.3)    (august, 236.3)   \n",
       "9     (valley, 502.4)        (loan, 206.2)   (brother, 223.2)   \n",
       "\n",
       "            topic 90  \n",
       "0  (species, 1017.5)  \n",
       "1    (family, 486.5)  \n",
       "2    (island, 445.3)  \n",
       "3     (black, 439.8)  \n",
       "4   (forests, 422.1)  \n",
       "5       (sea, 387.2)  \n",
       "6     (found, 387.0)  \n",
       "7    (forest, 364.5)  \n",
       "8     (genus, 350.1)  \n",
       "9  (tropical, 315.9)  "
      ]
     },
     "execution_count": 75,
     "metadata": {},
     "output_type": "execute_result"
    }
   ],
   "source": [
    "df = printtopics(vocabfile, \"ldaK100_D16_wiki10k_wiki1k/lambda-100.dat\", 0, 199, 10)\n",
    "df"
   ]
  },
  {
   "cell_type": "code",
   "execution_count": 76,
   "metadata": {
    "hidden": true,
    "scrolled": false
   },
   "outputs": [
    {
     "name": "stdout",
     "output_type": "stream",
     "text": [
      "Discovered 5 significant topics at threshold 199.00\n"
     ]
    },
    {
     "data": {
      "text/html": [
       "<div>\n",
       "<style scoped>\n",
       "    .dataframe tbody tr th:only-of-type {\n",
       "        vertical-align: middle;\n",
       "    }\n",
       "\n",
       "    .dataframe tbody tr th {\n",
       "        vertical-align: top;\n",
       "    }\n",
       "\n",
       "    .dataframe thead th {\n",
       "        text-align: right;\n",
       "    }\n",
       "</style>\n",
       "<table border=\"1\" class=\"dataframe\">\n",
       "  <thead>\n",
       "    <tr style=\"text-align: right;\">\n",
       "      <th></th>\n",
       "      <th>topic 0</th>\n",
       "      <th>topic 1</th>\n",
       "      <th>topic 2</th>\n",
       "      <th>topic 3</th>\n",
       "      <th>topic 4</th>\n",
       "    </tr>\n",
       "  </thead>\n",
       "  <tbody>\n",
       "    <tr>\n",
       "      <th>0</th>\n",
       "      <td>(week, 4438.8)</td>\n",
       "      <td>(series, 1913.8)</td>\n",
       "      <td>(nature, 940.2)</td>\n",
       "      <td>(score, 11240.1)</td>\n",
       "      <td>(battle, 199.3)</td>\n",
       "    </tr>\n",
       "    <tr>\n",
       "      <th>1</th>\n",
       "      <td>(first, 4408.1)</td>\n",
       "      <td>(best, 1851.3)</td>\n",
       "      <td>(church, 692.5)</td>\n",
       "      <td>(team, 6785.5)</td>\n",
       "      <td>(ships, 181.0)</td>\n",
       "    </tr>\n",
       "    <tr>\n",
       "      <th>2</th>\n",
       "      <td>(new, 3809.6)</td>\n",
       "      <td>(music, 1823.9)</td>\n",
       "      <td>(century, 593.7)</td>\n",
       "      <td>(seed, 3170.3)</td>\n",
       "      <td>(lord, 167.0)</td>\n",
       "    </tr>\n",
       "    <tr>\n",
       "      <th>3</th>\n",
       "      <td>(years, 3206.1)</td>\n",
       "      <td>(new, 1551.1)</td>\n",
       "      <td>(work, 480.3)</td>\n",
       "      <td>(round, 952.4)</td>\n",
       "      <td>(squadron, 160.9)</td>\n",
       "    </tr>\n",
       "    <tr>\n",
       "      <th>4</th>\n",
       "      <td>(two, 3148.3)</td>\n",
       "      <td>(sort, 1348.1)</td>\n",
       "      <td>(cells, 453.5)</td>\n",
       "      <td>(report, 787.7)</td>\n",
       "      <td>(attack, 154.1)</td>\n",
       "    </tr>\n",
       "    <tr>\n",
       "      <th>5</th>\n",
       "      <td>(color, 2969.3)</td>\n",
       "      <td>(released, 1284.7)</td>\n",
       "      <td>(people, 441.3)</td>\n",
       "      <td>(attendance, 617.3)</td>\n",
       "      <td>(control, 154.0)</td>\n",
       "    </tr>\n",
       "    <tr>\n",
       "      <th>6</th>\n",
       "      <td>(time, 2860.5)</td>\n",
       "      <td>(first, 1159.6)</td>\n",
       "      <td>(attitude, 406.6)</td>\n",
       "      <td>(goals, 300.1)</td>\n",
       "      <td>(command, 151.7)</td>\n",
       "    </tr>\n",
       "    <tr>\n",
       "      <th>7</th>\n",
       "      <td>(state, 2491.6)</td>\n",
       "      <td>(song, 1090.4)</td>\n",
       "      <td>(roman, 392.9)</td>\n",
       "      <td>(van, 178.4)</td>\n",
       "      <td>(commander, 145.5)</td>\n",
       "    </tr>\n",
       "    <tr>\n",
       "      <th>8</th>\n",
       "      <td>(city, 2425.3)</td>\n",
       "      <td>(cat, 939.8)</td>\n",
       "      <td>(published, 380.4)</td>\n",
       "      <td>(section, 143.9)</td>\n",
       "      <td>(army, 144.7)</td>\n",
       "    </tr>\n",
       "    <tr>\n",
       "      <th>9</th>\n",
       "      <td>(united, 2423.9)</td>\n",
       "      <td>(love, 871.7)</td>\n",
       "      <td>(found, 376.0)</td>\n",
       "      <td>(second, 134.0)</td>\n",
       "      <td>(civil, 141.2)</td>\n",
       "    </tr>\n",
       "  </tbody>\n",
       "</table>\n",
       "</div>"
      ],
      "text/plain": [
       "            topic 0             topic 1             topic 2  \\\n",
       "0    (week, 4438.8)    (series, 1913.8)     (nature, 940.2)   \n",
       "1   (first, 4408.1)      (best, 1851.3)     (church, 692.5)   \n",
       "2     (new, 3809.6)     (music, 1823.9)    (century, 593.7)   \n",
       "3   (years, 3206.1)       (new, 1551.1)       (work, 480.3)   \n",
       "4     (two, 3148.3)      (sort, 1348.1)      (cells, 453.5)   \n",
       "5   (color, 2969.3)  (released, 1284.7)     (people, 441.3)   \n",
       "6    (time, 2860.5)     (first, 1159.6)   (attitude, 406.6)   \n",
       "7   (state, 2491.6)      (song, 1090.4)      (roman, 392.9)   \n",
       "8    (city, 2425.3)        (cat, 939.8)  (published, 380.4)   \n",
       "9  (united, 2423.9)       (love, 871.7)      (found, 376.0)   \n",
       "\n",
       "               topic 3             topic 4  \n",
       "0     (score, 11240.1)     (battle, 199.3)  \n",
       "1       (team, 6785.5)      (ships, 181.0)  \n",
       "2       (seed, 3170.3)       (lord, 167.0)  \n",
       "3       (round, 952.4)   (squadron, 160.9)  \n",
       "4      (report, 787.7)     (attack, 154.1)  \n",
       "5  (attendance, 617.3)    (control, 154.0)  \n",
       "6       (goals, 300.1)    (command, 151.7)  \n",
       "7         (van, 178.4)  (commander, 145.5)  \n",
       "8     (section, 143.9)       (army, 144.7)  \n",
       "9      (second, 134.0)      (civil, 141.2)  "
      ]
     },
     "execution_count": 76,
     "metadata": {},
     "output_type": "execute_result"
    }
   ],
   "source": [
    "df = printtopics(vocabfile, \"sbldaK100_D16_wiki10k_wiki1k/lambda-100.dat\", 0, 199, 10)\n",
    "df"
   ]
  }
 ],
 "metadata": {
  "kernelspec": {
   "display_name": "Python 3",
   "language": "python",
   "name": "python3"
  },
  "language_info": {
   "codemirror_mode": {
    "name": "ipython",
    "version": 3
   },
   "file_extension": ".py",
   "mimetype": "text/x-python",
   "name": "python",
   "nbconvert_exporter": "python",
   "pygments_lexer": "ipython3",
   "version": "3.6.9"
  },
  "latex_envs": {
   "LaTeX_envs_menu_present": true,
   "autoclose": false,
   "autocomplete": true,
   "bibliofile": "biblio.bib",
   "cite_by": "apalike",
   "current_citInitial": 1,
   "eqLabelWithNumbers": true,
   "eqNumInitial": 1,
   "hotkeys": {
    "equation": "Ctrl-E",
    "itemize": "Ctrl-I"
   },
   "labels_anchors": false,
   "latex_user_defs": false,
   "report_style_numbering": false,
   "user_envs_cfg": false
  },
  "toc": {
   "base_numbering": 1,
   "nav_menu": {},
   "number_sections": true,
   "sideBar": true,
   "skip_h1_title": false,
   "title_cell": "Table of Contents",
   "title_sidebar": "Contents",
   "toc_cell": false,
   "toc_position": {},
   "toc_section_display": true,
   "toc_window_display": false
  },
  "varInspector": {
   "cols": {
    "lenName": 16,
    "lenType": 16,
    "lenVar": 40
   },
   "kernels_config": {
    "python": {
     "delete_cmd_postfix": "",
     "delete_cmd_prefix": "del ",
     "library": "var_list.py",
     "varRefreshCmd": "print(var_dic_list())"
    },
    "r": {
     "delete_cmd_postfix": ") ",
     "delete_cmd_prefix": "rm(",
     "library": "var_list.r",
     "varRefreshCmd": "cat(var_dic_list()) "
    }
   },
   "types_to_exclude": [
    "module",
    "function",
    "builtin_function_or_method",
    "instance",
    "_Feature"
   ],
   "window_display": false
  }
 },
 "nbformat": 4,
 "nbformat_minor": 2
}
