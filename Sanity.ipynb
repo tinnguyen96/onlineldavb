{
 "cells": [
  {
   "cell_type": "markdown",
   "metadata": {
    "heading_collapsed": true
   },
   "source": [
    "# E-step: Coordinate ascent converges to local maximum in the number of iterations specified"
   ]
  },
  {
   "cell_type": "code",
   "execution_count": null,
   "metadata": {
    "hidden": true
   },
   "outputs": [],
   "source": [
    "from topicmodelvb_v2 import sanity_E_step"
   ]
  },
  {
   "cell_type": "markdown",
   "metadata": {
    "hidden": true
   },
   "source": [
    "## Topics initialized from scratch"
   ]
  },
  {
   "cell_type": "code",
   "execution_count": null,
   "metadata": {
    "hidden": true,
    "scrolled": false
   },
   "outputs": [],
   "source": [
    "seed = 12\n",
    "K = 100\n",
    "topicpath = None\n",
    "sanity_E_step(seed, K, topicpath)"
   ]
  },
  {
   "cell_type": "markdown",
   "metadata": {
    "hidden": true
   },
   "source": [
    "## Warm-start using topics learned with SB-LDA after 100 minibatches"
   ]
  },
  {
   "cell_type": "code",
   "execution_count": null,
   "metadata": {
    "hidden": true
   },
   "outputs": [],
   "source": [
    "seed = 12\n",
    "K = 100\n",
    "topicpath = \"results/sbldaK100_D16_wiki10k_wiki1k/lambda-100.dat\"\n",
    "sanity_E_step(seed, K, topicpath)"
   ]
  },
  {
   "cell_type": "markdown",
   "metadata": {
    "hidden": true
   },
   "source": [
    "## Warm-start using topics learned with LDA 1/K after 100 minibatches"
   ]
  },
  {
   "cell_type": "code",
   "execution_count": null,
   "metadata": {
    "hidden": true
   },
   "outputs": [],
   "source": [
    "sanity_E_stepseed = 12\n",
    "K = 100\n",
    "topicpath = \"results/ldaK100_D16_wiki10k_wiki1k/lambda-500.dat\"\n",
    "sanity_E_step(seed, K, topicpath)"
   ]
  },
  {
   "cell_type": "markdown",
   "metadata": {},
   "source": [
    "# M-step: Topics update step improve the ELBO"
   ]
  },
  {
   "cell_type": "code",
   "execution_count": 1,
   "metadata": {},
   "outputs": [],
   "source": [
    "from topicmodelvb_v2 import sanity_M_step"
   ]
  },
  {
   "cell_type": "code",
   "execution_count": 2,
   "metadata": {},
   "outputs": [
    {
     "name": "stdout",
     "output_type": "stream",
     "text": [
      "Time to initialize topic model is 0.37\n",
      "Change in ELBO caused by 1-th update is 21245868.50\n",
      "Change in ELBO caused by 2-th update is 11745438.49\n",
      "Change in ELBO caused by 3-th update is 5138327.43\n",
      "Change in ELBO caused by 4-th update is 6233960.25\n",
      "Change in ELBO caused by 5-th update is 4376519.74\n",
      "Change in ELBO caused by 6-th update is 747884.62\n",
      "Change in ELBO caused by 7-th update is 7905567.70\n",
      "Change in ELBO caused by 8-th update is 966375.20\n",
      "Change in ELBO caused by 9-th update is 252662.18\n",
      "Change in ELBO caused by 10-th update is 200850.62\n"
     ]
    }
   ],
   "source": [
    "seed = 12\n",
    "K = 100\n",
    "topicpath = None\n",
    "sanity_M_step(seed, K, topicpath)"
   ]
  }
 ],
 "metadata": {
  "kernelspec": {
   "display_name": "Python 3",
   "language": "python",
   "name": "python3"
  },
  "language_info": {
   "codemirror_mode": {
    "name": "ipython",
    "version": 3
   },
   "file_extension": ".py",
   "mimetype": "text/x-python",
   "name": "python",
   "nbconvert_exporter": "python",
   "pygments_lexer": "ipython3",
   "version": "3.6.9"
  },
  "latex_envs": {
   "LaTeX_envs_menu_present": true,
   "autoclose": false,
   "autocomplete": true,
   "bibliofile": "biblio.bib",
   "cite_by": "apalike",
   "current_citInitial": 1,
   "eqLabelWithNumbers": true,
   "eqNumInitial": 1,
   "hotkeys": {
    "equation": "Ctrl-E",
    "itemize": "Ctrl-I"
   },
   "labels_anchors": false,
   "latex_user_defs": false,
   "report_style_numbering": false,
   "user_envs_cfg": false
  },
  "toc": {
   "base_numbering": 1,
   "nav_menu": {},
   "number_sections": true,
   "sideBar": true,
   "skip_h1_title": false,
   "title_cell": "Table of Contents",
   "title_sidebar": "Contents",
   "toc_cell": false,
   "toc_position": {},
   "toc_section_display": true,
   "toc_window_display": false
  },
  "varInspector": {
   "cols": {
    "lenName": 16,
    "lenType": 16,
    "lenVar": 40
   },
   "kernels_config": {
    "python": {
     "delete_cmd_postfix": "",
     "delete_cmd_prefix": "del ",
     "library": "var_list.py",
     "varRefreshCmd": "print(var_dic_list())"
    },
    "r": {
     "delete_cmd_postfix": ") ",
     "delete_cmd_prefix": "rm(",
     "library": "var_list.r",
     "varRefreshCmd": "cat(var_dic_list()) "
    }
   },
   "types_to_exclude": [
    "module",
    "function",
    "builtin_function_or_method",
    "instance",
    "_Feature"
   ],
   "window_display": false
  }
 },
 "nbformat": 4,
 "nbformat_minor": 2
}
